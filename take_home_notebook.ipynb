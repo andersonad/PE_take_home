{
 "cells": [
  {
   "cell_type": "markdown",
   "metadata": {},
   "source": [
    "# Importing libraries"
   ]
  },
  {
   "cell_type": "code",
   "execution_count": 4,
   "metadata": {},
   "outputs": [],
   "source": [
    "import pandas as pd\n",
    "import numpy as np\n",
    "from tqdm import tqdm \n",
    "import matplotlib.pyplot as plt\n",
    "from time import time\n",
    "import seaborn as sns\n",
    "plt.style.use('seaborn-darkgrid')\n",
    "tqdm.pandas()"
   ]
  },
  {
   "cell_type": "markdown",
   "metadata": {},
   "source": [
    "# Loading the data\n",
    "The warning is fine because columns with mixed types get converted to objects. \n",
    "We'll make sure everything has the right type in the next cell."
   ]
  },
  {
   "cell_type": "code",
   "execution_count": 6,
   "metadata": {},
   "outputs": [],
   "source": [
    "nrows = 10000 #Sizing down the dataset is useful for prototyping and evaluating computational times\n",
    "df = pd.read_csv('Fire_Department_Calls_for_Service.csv', nrows=nrows)"
   ]
  },
  {
   "cell_type": "markdown",
   "metadata": {},
   "source": [
    "# Data cleaning \n",
    "Everything not explicitly handled here should have type \"object\""
   ]
  },
  {
   "cell_type": "code",
   "execution_count": 10,
   "metadata": {},
   "outputs": [],
   "source": [
    "#Data dictionary so we can make sure everything is the right type\n",
    "data_dict = pd.read_csv('DataDictionary.csv')\n",
    "\n",
    "#List of datetime columns\n",
    "date_columns = list(data_dict[data_dict['Data Type'] == 'Date & Time']['Field Name'])\n",
    "\n",
    "#This column appears to be missing\n",
    "date_columns.remove('AVL Validated On Scene DtTm')\n",
    "\n",
    "#Converting to datetimes\n",
    "for column in date_columns:\n",
    "    #Specifying the formats makes date parsing way faster even though it's not elegant\n",
    "    if \"Date\" in column:\n",
    "        df[column] = pd.to_datetime(df[column], format='%m/%d/%Y')\n",
    "    else:\n",
    "        df[column] = pd.to_datetime(df[column], format='%m/%d/%Y %I:%M:%S %p')\n",
    "        \n",
    "#List of numeric columns\n",
    "numeric_columns = list(data_dict[data_dict['Data Type'] == 'Numeric']['Field Name'])\n",
    "\n",
    "#Really these should be ints, but the float type lets us leave missing values as nans\n",
    "df[numeric_columns] = df[numeric_columns].astype(float)\n",
    "       \n",
    "#List of boolean columns\n",
    "bool_columns = list(data_dict[data_dict['Data Type'] == 'Boolean (True/False)']['Field Name'])\n",
    "df[bool_columns] = df[bool_columns].astype(bool)\n",
    "\n",
    "#Serialize the cleaned dataframe so we don't have to wait as long if we need to reload data\n",
    "df.to_pickle('cleaned_fire_data')\n",
    "        "
   ]
  },
  {
   "cell_type": "code",
   "execution_count": null,
   "metadata": {},
   "outputs": [],
   "source": []
  }
 ],
 "metadata": {
  "kernelspec": {
   "display_name": "Python 3",
   "language": "python",
   "name": "python3"
  },
  "language_info": {
   "codemirror_mode": {
    "name": "ipython",
    "version": 3
   },
   "file_extension": ".py",
   "mimetype": "text/x-python",
   "name": "python",
   "nbconvert_exporter": "python",
   "pygments_lexer": "ipython3",
   "version": "3.6.9"
  }
 },
 "nbformat": 4,
 "nbformat_minor": 2
}
